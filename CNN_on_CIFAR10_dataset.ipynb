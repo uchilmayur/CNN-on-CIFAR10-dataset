{
  "nbformat": 4,
  "nbformat_minor": 0,
  "metadata": {
    "colab": {
      "name": "CNN on CIFAR10 dataset",
      "provenance": []
    },
    "kernelspec": {
      "name": "python3",
      "display_name": "Python 3"
    },
    "language_info": {
      "name": "python"
    },
    "accelerator": "GPU",
    "gpuClass": "standard"
  },
  "cells": [
    {
      "cell_type": "code",
      "source": [
        "import keras\n",
        "from keras.models import Sequential\n",
        "from keras.utils import np_utils\n",
        "from keras.preprocessing.image import ImageDataGenerator\n",
        "from keras.layers import Dense, Activation, Flatten, Dropout, BatchNormalization\n",
        "from keras.layers import Conv2D, MaxPooling2D\n",
        "from keras.datasets import cifar10\n",
        "from keras import regularizers, optimizers\n",
        "import numpy as np\n",
        "from tensorflow.keras import optimizers\n",
        "import tensorflow"
      ],
      "metadata": {
        "id": "lZ6V1FQuzJvY"
      },
      "execution_count": 1,
      "outputs": []
    },
    {
      "cell_type": "code",
      "source": [
        "(x_train, y_train), (x_test, y_test) = cifar10.load_data()\n",
        "x_train = x_train.astype('float32')\n",
        "x_test = x_test.astype('float32')"
      ],
      "metadata": {
        "colab": {
          "base_uri": "https://localhost:8080/"
        },
        "id": "fJUtadg_1h9y",
        "outputId": "91816b13-a3e9-4727-aae7-96ccf65a62cf"
      },
      "execution_count": 2,
      "outputs": [
        {
          "output_type": "stream",
          "name": "stdout",
          "text": [
            "Downloading data from https://www.cs.toronto.edu/~kriz/cifar-10-python.tar.gz\n",
            "170500096/170498071 [==============================] - 13s 0us/step\n",
            "170508288/170498071 [==============================] - 13s 0us/step\n"
          ]
        }
      ]
    },
    {
      "cell_type": "code",
      "source": [
        "#z-score\n",
        "mean = np.mean(x_train,axis=(0,1,2,3))\n",
        "std = np.std(x_train,axis=(0,1,2,3))\n",
        "x_train = (x_train-mean)/(std+1e-7)\n",
        "x_test = (x_test-mean)/(std+1e-7)"
      ],
      "metadata": {
        "id": "t-tF-SWM1iAV"
      },
      "execution_count": 3,
      "outputs": []
    },
    {
      "cell_type": "code",
      "source": [
        "num_classes = 10\n",
        "y_train = np_utils.to_categorical(y_train,num_classes)\n",
        "y_test = np_utils.to_categorical(y_test,num_classes)"
      ],
      "metadata": {
        "id": "mK2jEElw1iDM"
      },
      "execution_count": 4,
      "outputs": []
    },
    {
      "cell_type": "code",
      "source": [
        "baseMapNum = 32\n",
        "weight_decay = 1e-4\n",
        "model = Sequential()\n",
        "model.add(Conv2D(baseMapNum, (3,3), padding='same', kernel_regularizer=regularizers.l2(weight_decay), input_shape=x_train.shape[1:]))\n",
        "model.add(Activation('relu'))\n",
        "model.add(BatchNormalization())\n",
        "model.add(Conv2D(baseMapNum, (3,3), padding='same', kernel_regularizer=regularizers.l2(weight_decay)))\n",
        "model.add(Activation('relu'))\n",
        "model.add(BatchNormalization())\n",
        "model.add(MaxPooling2D(pool_size=(2,2)))\n",
        "model.add(Dropout(0.2))\n",
        "\n",
        "model.add(Conv2D(2*baseMapNum, (3,3), padding='same', kernel_regularizer=regularizers.l2(weight_decay)))\n",
        "model.add(Activation('relu'))\n",
        "model.add(BatchNormalization())\n",
        "model.add(Conv2D(2*baseMapNum, (3,3), padding='same', kernel_regularizer=regularizers.l2(weight_decay)))\n",
        "model.add(Activation('relu'))\n",
        "model.add(BatchNormalization())\n",
        "model.add(MaxPooling2D(pool_size=(2,2)))\n",
        "model.add(Dropout(0.3))\n",
        "\n",
        "model.add(Conv2D(4*baseMapNum, (3,3), padding='same', kernel_regularizer=regularizers.l2(weight_decay)))\n",
        "model.add(Activation('relu'))\n",
        "model.add(BatchNormalization())\n",
        "model.add(Conv2D(4*baseMapNum, (3,3), padding='same', kernel_regularizer=regularizers.l2(weight_decay)))\n",
        "model.add(Activation('relu'))\n",
        "model.add(BatchNormalization())\n",
        "model.add(MaxPooling2D(pool_size=(2,2)))\n",
        "model.add(Dropout(0.4))\n",
        "\n",
        "model.add(Flatten())\n",
        "model.add(Dense(num_classes, activation='softmax'))\n",
        "\n",
        "model.summary()"
      ],
      "metadata": {
        "colab": {
          "base_uri": "https://localhost:8080/"
        },
        "id": "PfYWR3mS1iF0",
        "outputId": "c8d8417c-936b-4a73-e43e-bbb743d72abc"
      },
      "execution_count": 5,
      "outputs": [
        {
          "output_type": "stream",
          "name": "stdout",
          "text": [
            "Model: \"sequential\"\n",
            "_________________________________________________________________\n",
            " Layer (type)                Output Shape              Param #   \n",
            "=================================================================\n",
            " conv2d (Conv2D)             (None, 32, 32, 32)        896       \n",
            "                                                                 \n",
            " activation (Activation)     (None, 32, 32, 32)        0         \n",
            "                                                                 \n",
            " batch_normalization (BatchN  (None, 32, 32, 32)       128       \n",
            " ormalization)                                                   \n",
            "                                                                 \n",
            " conv2d_1 (Conv2D)           (None, 32, 32, 32)        9248      \n",
            "                                                                 \n",
            " activation_1 (Activation)   (None, 32, 32, 32)        0         \n",
            "                                                                 \n",
            " batch_normalization_1 (Batc  (None, 32, 32, 32)       128       \n",
            " hNormalization)                                                 \n",
            "                                                                 \n",
            " max_pooling2d (MaxPooling2D  (None, 16, 16, 32)       0         \n",
            " )                                                               \n",
            "                                                                 \n",
            " dropout (Dropout)           (None, 16, 16, 32)        0         \n",
            "                                                                 \n",
            " conv2d_2 (Conv2D)           (None, 16, 16, 64)        18496     \n",
            "                                                                 \n",
            " activation_2 (Activation)   (None, 16, 16, 64)        0         \n",
            "                                                                 \n",
            " batch_normalization_2 (Batc  (None, 16, 16, 64)       256       \n",
            " hNormalization)                                                 \n",
            "                                                                 \n",
            " conv2d_3 (Conv2D)           (None, 16, 16, 64)        36928     \n",
            "                                                                 \n",
            " activation_3 (Activation)   (None, 16, 16, 64)        0         \n",
            "                                                                 \n",
            " batch_normalization_3 (Batc  (None, 16, 16, 64)       256       \n",
            " hNormalization)                                                 \n",
            "                                                                 \n",
            " max_pooling2d_1 (MaxPooling  (None, 8, 8, 64)         0         \n",
            " 2D)                                                             \n",
            "                                                                 \n",
            " dropout_1 (Dropout)         (None, 8, 8, 64)          0         \n",
            "                                                                 \n",
            " conv2d_4 (Conv2D)           (None, 8, 8, 128)         73856     \n",
            "                                                                 \n",
            " activation_4 (Activation)   (None, 8, 8, 128)         0         \n",
            "                                                                 \n",
            " batch_normalization_4 (Batc  (None, 8, 8, 128)        512       \n",
            " hNormalization)                                                 \n",
            "                                                                 \n",
            " conv2d_5 (Conv2D)           (None, 8, 8, 128)         147584    \n",
            "                                                                 \n",
            " activation_5 (Activation)   (None, 8, 8, 128)         0         \n",
            "                                                                 \n",
            " batch_normalization_5 (Batc  (None, 8, 8, 128)        512       \n",
            " hNormalization)                                                 \n",
            "                                                                 \n",
            " max_pooling2d_2 (MaxPooling  (None, 4, 4, 128)        0         \n",
            " 2D)                                                             \n",
            "                                                                 \n",
            " dropout_2 (Dropout)         (None, 4, 4, 128)         0         \n",
            "                                                                 \n",
            " flatten (Flatten)           (None, 2048)              0         \n",
            "                                                                 \n",
            " dense (Dense)               (None, 10)                20490     \n",
            "                                                                 \n",
            "=================================================================\n",
            "Total params: 309,290\n",
            "Trainable params: 308,394\n",
            "Non-trainable params: 896\n",
            "_________________________________________________________________\n"
          ]
        }
      ]
    },
    {
      "cell_type": "code",
      "source": [
        "#data augmentation\n",
        "datagen = ImageDataGenerator(\n",
        "    featurewise_center=False,\n",
        "    samplewise_center=False,\n",
        "    featurewise_std_normalization=False,\n",
        "    samplewise_std_normalization=False,\n",
        "    zca_whitening=False,\n",
        "    rotation_range=15,\n",
        "    width_shift_range=0.1,\n",
        "    height_shift_range=0.1,\n",
        "    horizontal_flip=True,\n",
        "    vertical_flip=False\n",
        "    )\n",
        "datagen.fit(x_train)"
      ],
      "metadata": {
        "id": "J2uDGozt1iIa"
      },
      "execution_count": 6,
      "outputs": []
    },
    {
      "cell_type": "code",
      "source": [
        "#training\n",
        "batch_size = 64\n",
        "epochs=5\n",
        "opt_rms = tensorflow.keras.optimizers.RMSprop(learning_rate=0.001,decay=1e-6)\n",
        "model.compile(loss='categorical_crossentropy',\n",
        "        optimizer=opt_rms,\n",
        "        metrics=['accuracy'])\n",
        "model.fit(datagen.flow(x_train, y_train, batch_size=batch_size),steps_per_epoch=x_train.shape[0] // batch_size,epochs=3*epochs,verbose=1,validation_data=(x_test,y_test))\n",
        "model.save_weights('cifar10_normal_rms_ep75.h5')"
      ],
      "metadata": {
        "colab": {
          "base_uri": "https://localhost:8080/"
        },
        "id": "3yCNbEs-1iLD",
        "outputId": "7fd22943-6b41-47b8-9453-6bf0726731b5"
      },
      "execution_count": 8,
      "outputs": [
        {
          "output_type": "stream",
          "name": "stdout",
          "text": [
            "Epoch 1/15\n",
            "781/781 [==============================] - 28s 34ms/step - loss: 0.6607 - accuracy: 0.8212 - val_loss: 0.6350 - val_accuracy: 0.8343\n",
            "Epoch 2/15\n",
            "781/781 [==============================] - 27s 35ms/step - loss: 0.6625 - accuracy: 0.8195 - val_loss: 0.5976 - val_accuracy: 0.8456\n",
            "Epoch 3/15\n",
            "781/781 [==============================] - 26s 34ms/step - loss: 0.6570 - accuracy: 0.8226 - val_loss: 0.6804 - val_accuracy: 0.8276\n",
            "Epoch 4/15\n",
            "781/781 [==============================] - 27s 34ms/step - loss: 0.6554 - accuracy: 0.8224 - val_loss: 0.6107 - val_accuracy: 0.8459\n",
            "Epoch 5/15\n",
            "781/781 [==============================] - 27s 34ms/step - loss: 0.6520 - accuracy: 0.8255 - val_loss: 0.6858 - val_accuracy: 0.8303\n",
            "Epoch 6/15\n",
            "781/781 [==============================] - 26s 34ms/step - loss: 0.6476 - accuracy: 0.8271 - val_loss: 0.6511 - val_accuracy: 0.8342\n",
            "Epoch 7/15\n",
            "781/781 [==============================] - 28s 35ms/step - loss: 0.6456 - accuracy: 0.8283 - val_loss: 0.6179 - val_accuracy: 0.8440\n",
            "Epoch 8/15\n",
            "781/781 [==============================] - 26s 34ms/step - loss: 0.6390 - accuracy: 0.8287 - val_loss: 0.6355 - val_accuracy: 0.8427\n",
            "Epoch 9/15\n",
            "781/781 [==============================] - 27s 34ms/step - loss: 0.6337 - accuracy: 0.8326 - val_loss: 0.6202 - val_accuracy: 0.8392\n",
            "Epoch 10/15\n",
            "781/781 [==============================] - 27s 34ms/step - loss: 0.6316 - accuracy: 0.8317 - val_loss: 0.6467 - val_accuracy: 0.8348\n",
            "Epoch 11/15\n",
            "781/781 [==============================] - 27s 34ms/step - loss: 0.6343 - accuracy: 0.8320 - val_loss: 0.6621 - val_accuracy: 0.8342\n",
            "Epoch 12/15\n",
            "781/781 [==============================] - 27s 34ms/step - loss: 0.6280 - accuracy: 0.8340 - val_loss: 0.6346 - val_accuracy: 0.8411\n",
            "Epoch 13/15\n",
            "781/781 [==============================] - 27s 34ms/step - loss: 0.6281 - accuracy: 0.8350 - val_loss: 0.6002 - val_accuracy: 0.8522\n",
            "Epoch 14/15\n",
            "781/781 [==============================] - 26s 34ms/step - loss: 0.6297 - accuracy: 0.8342 - val_loss: 0.6162 - val_accuracy: 0.8471\n",
            "Epoch 15/15\n",
            "781/781 [==============================] - 27s 34ms/step - loss: 0.6214 - accuracy: 0.8374 - val_loss: 0.6396 - val_accuracy: 0.8405\n"
          ]
        }
      ]
    },
    {
      "cell_type": "code",
      "source": [
        "epochs=5\n",
        "\n",
        "opt_rms = tensorflow.keras.optimizers.RMSprop(learning_rate=0.0005,decay=1e-6)\n",
        "model.compile(loss='categorical_crossentropy',\n",
        "        optimizer=opt_rms,\n",
        "        metrics=['accuracy'])\n",
        "model.fit(datagen.flow(x_train, y_train, batch_size=batch_size),steps_per_epoch=x_train.shape[0] // batch_size,epochs=3*epochs,verbose=1,validation_data=(x_test,y_test))\n",
        "model.save_weights('cifar10_normal_rms_ep100.h5')\n"
      ],
      "metadata": {
        "colab": {
          "base_uri": "https://localhost:8080/"
        },
        "id": "4B1oXLCG1iR4",
        "outputId": "e7efff5f-0135-4385-a5a3-620e30be7d04"
      },
      "execution_count": 11,
      "outputs": [
        {
          "output_type": "stream",
          "name": "stdout",
          "text": [
            "Epoch 1/15\n",
            "781/781 [==============================] - 28s 34ms/step - loss: 0.5245 - accuracy: 0.8645 - val_loss: 0.5140 - val_accuracy: 0.8719\n",
            "Epoch 2/15\n",
            "781/781 [==============================] - 27s 34ms/step - loss: 0.5191 - accuracy: 0.8642 - val_loss: 0.5811 - val_accuracy: 0.8545\n",
            "Epoch 3/15\n",
            "781/781 [==============================] - 27s 34ms/step - loss: 0.5159 - accuracy: 0.8667 - val_loss: 0.5548 - val_accuracy: 0.8615\n",
            "Epoch 4/15\n",
            "781/781 [==============================] - 27s 35ms/step - loss: 0.5130 - accuracy: 0.8651 - val_loss: 0.5562 - val_accuracy: 0.8592\n",
            "Epoch 5/15\n",
            "781/781 [==============================] - 26s 34ms/step - loss: 0.5129 - accuracy: 0.8648 - val_loss: 0.5331 - val_accuracy: 0.8687\n",
            "Epoch 6/15\n",
            "781/781 [==============================] - 26s 34ms/step - loss: 0.5127 - accuracy: 0.8658 - val_loss: 0.5617 - val_accuracy: 0.8587\n",
            "Epoch 7/15\n",
            "781/781 [==============================] - 27s 34ms/step - loss: 0.5096 - accuracy: 0.8681 - val_loss: 0.5153 - val_accuracy: 0.8739\n",
            "Epoch 8/15\n",
            "781/781 [==============================] - 26s 34ms/step - loss: 0.5036 - accuracy: 0.8698 - val_loss: 0.5079 - val_accuracy: 0.8741\n",
            "Epoch 9/15\n",
            "781/781 [==============================] - 26s 34ms/step - loss: 0.5005 - accuracy: 0.8695 - val_loss: 0.5087 - val_accuracy: 0.8719\n",
            "Epoch 10/15\n",
            "781/781 [==============================] - 27s 34ms/step - loss: 0.4976 - accuracy: 0.8693 - val_loss: 0.5450 - val_accuracy: 0.8655\n",
            "Epoch 11/15\n",
            "781/781 [==============================] - 26s 34ms/step - loss: 0.4984 - accuracy: 0.8710 - val_loss: 0.5410 - val_accuracy: 0.8667\n",
            "Epoch 12/15\n",
            "781/781 [==============================] - 27s 34ms/step - loss: 0.4960 - accuracy: 0.8697 - val_loss: 0.5336 - val_accuracy: 0.8694\n",
            "Epoch 13/15\n",
            "781/781 [==============================] - 27s 35ms/step - loss: 0.4933 - accuracy: 0.8679 - val_loss: 0.5371 - val_accuracy: 0.8648\n",
            "Epoch 14/15\n",
            "781/781 [==============================] - 27s 34ms/step - loss: 0.4945 - accuracy: 0.8707 - val_loss: 0.5280 - val_accuracy: 0.8713\n",
            "Epoch 15/15\n",
            "781/781 [==============================] - 27s 34ms/step - loss: 0.4904 - accuracy: 0.8707 - val_loss: 0.5318 - val_accuracy: 0.8683\n"
          ]
        }
      ]
    },
    {
      "cell_type": "code",
      "source": [
        "epochs=5\n",
        "\n",
        "opt_rms = tensorflow.keras.optimizers.RMSprop(learning_rate=0.0003,decay=1e-6)\n",
        "model.compile(loss='categorical_crossentropy',\n",
        "        optimizer=opt_rms,\n",
        "        metrics=['accuracy'])\n",
        "model.fit(datagen.flow(x_train, y_train, batch_size=batch_size),steps_per_epoch=x_train.shape[0] // batch_size,epochs=3*epochs,verbose=1,validation_data=(x_test,y_test))\n",
        "model.save_weights('cifar10_normal_rms_ep125.h5')\n"
      ],
      "metadata": {
        "colab": {
          "base_uri": "https://localhost:8080/"
        },
        "id": "j95YBKFi1iUi",
        "outputId": "de883c12-2e43-4ccd-b995-770a26e11353"
      },
      "execution_count": 12,
      "outputs": [
        {
          "output_type": "stream",
          "name": "stdout",
          "text": [
            "Epoch 1/15\n",
            "781/781 [==============================] - 28s 34ms/step - loss: 0.4719 - accuracy: 0.8794 - val_loss: 0.5149 - val_accuracy: 0.8715\n",
            "Epoch 2/15\n",
            "781/781 [==============================] - 27s 34ms/step - loss: 0.4618 - accuracy: 0.8792 - val_loss: 0.5121 - val_accuracy: 0.8741\n",
            "Epoch 3/15\n",
            "781/781 [==============================] - 27s 34ms/step - loss: 0.4551 - accuracy: 0.8818 - val_loss: 0.5226 - val_accuracy: 0.8736\n",
            "Epoch 4/15\n",
            "781/781 [==============================] - 26s 34ms/step - loss: 0.4549 - accuracy: 0.8823 - val_loss: 0.4925 - val_accuracy: 0.8786\n",
            "Epoch 5/15\n",
            "781/781 [==============================] - 26s 34ms/step - loss: 0.4527 - accuracy: 0.8822 - val_loss: 0.5150 - val_accuracy: 0.8737\n",
            "Epoch 6/15\n",
            "781/781 [==============================] - 26s 34ms/step - loss: 0.4491 - accuracy: 0.8834 - val_loss: 0.4784 - val_accuracy: 0.8807\n",
            "Epoch 7/15\n",
            "781/781 [==============================] - 26s 34ms/step - loss: 0.4486 - accuracy: 0.8818 - val_loss: 0.4938 - val_accuracy: 0.8744\n",
            "Epoch 8/15\n",
            "781/781 [==============================] - 27s 34ms/step - loss: 0.4447 - accuracy: 0.8853 - val_loss: 0.5135 - val_accuracy: 0.8739\n",
            "Epoch 9/15\n",
            "781/781 [==============================] - 26s 34ms/step - loss: 0.4432 - accuracy: 0.8850 - val_loss: 0.4749 - val_accuracy: 0.8852\n",
            "Epoch 10/15\n",
            "781/781 [==============================] - 26s 33ms/step - loss: 0.4432 - accuracy: 0.8835 - val_loss: 0.4905 - val_accuracy: 0.8783\n",
            "Epoch 11/15\n",
            "781/781 [==============================] - 27s 34ms/step - loss: 0.4397 - accuracy: 0.8852 - val_loss: 0.4840 - val_accuracy: 0.8829\n",
            "Epoch 12/15\n",
            "781/781 [==============================] - 26s 34ms/step - loss: 0.4385 - accuracy: 0.8852 - val_loss: 0.5221 - val_accuracy: 0.8694\n",
            "Epoch 13/15\n",
            "781/781 [==============================] - 27s 34ms/step - loss: 0.4349 - accuracy: 0.8870 - val_loss: 0.4666 - val_accuracy: 0.8838\n",
            "Epoch 14/15\n",
            "781/781 [==============================] - 27s 34ms/step - loss: 0.4333 - accuracy: 0.8858 - val_loss: 0.5015 - val_accuracy: 0.8723\n",
            "Epoch 15/15\n",
            "781/781 [==============================] - 26s 33ms/step - loss: 0.4365 - accuracy: 0.8858 - val_loss: 0.4954 - val_accuracy: 0.8747\n"
          ]
        }
      ]
    },
    {
      "cell_type": "code",
      "source": [
        "#testing - no kaggle eval\n",
        "scores = model.evaluate(x_test, y_test, batch_size=128, verbose=1)\n",
        "print('\\nTest result: %.3f loss: %.3f' % (scores[1]*100,scores[0]))"
      ],
      "metadata": {
        "colab": {
          "base_uri": "https://localhost:8080/"
        },
        "id": "1yZHWlSG1iXU",
        "outputId": "dd0f5c34-c0d3-4f15-ac36-9328ce1f69de"
      },
      "execution_count": 13,
      "outputs": [
        {
          "output_type": "stream",
          "name": "stdout",
          "text": [
            "79/79 [==============================] - 1s 6ms/step - loss: 0.4954 - accuracy: 0.8747\n",
            "\n",
            "Test result: 87.470 loss: 0.495\n"
          ]
        }
      ]
    },
    {
      "cell_type": "code",
      "source": [
        ""
      ],
      "metadata": {
        "id": "Anr4xSzq1iaC"
      },
      "execution_count": null,
      "outputs": []
    },
    {
      "cell_type": "code",
      "source": [
        ""
      ],
      "metadata": {
        "id": "FuXY7tHw1icp"
      },
      "execution_count": null,
      "outputs": []
    }
  ]
}